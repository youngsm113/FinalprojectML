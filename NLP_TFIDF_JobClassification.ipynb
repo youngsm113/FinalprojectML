{
 "cells": [
  {
   "cell_type": "markdown",
   "id": "c788cb8a",
   "metadata": {},
   "source": [
    "---\n",
    "Title: \"Analyzing Job Characteristics and Salary Predictions Through Machine Learning Techniques Using LinkedIn Job Posting Data\"\n",
    "author: \"Sandy Young\"\n",
    "course: \"MGT 665: Solving Problems using Machine Learning\"\n",
    "professor: \"Dr. Itauma Itauma\"\n",
    "date: \"April 20, 2025\"\n",
    "---"
   ]
  },
  {
   "cell_type": "markdown",
   "id": "e80dc1ee",
   "metadata": {},
   "source": [
    "### Abstract\n",
    "The research addresses the need to forecast salaries accurately using elements extracted from LinkedIn job postings. A two-day job information collection period produced this dataset containing essential variables, including job titles and descriptions, salaries, and company information. The research employs machine learning methods to reveal connections between the variables and their effects on salary establishment. The research applies two primary machine learning approaches for this evaluation, which include Linear Regression based on Chen et al. (2024) alongside the advanced Gradient Boosting Decision Trees (GBDT) model, which demonstrates superior performance in salary prediction according to Yang (2023). The research targets two main objectives: improving salary estimation approaches while analyzing job market features that affect compensation patterns.\n",
    "The dataset's extensive features enable thorough investigations into how job characteristics affect salaries. Bao (2024) points out educational attainment and professional experience as essential factors that determine salary levels according to previous research and will be included in the model. The analysis will benefit from ensemble learning techniques and natural language processing methods that address the complexities found in job postings to improve prediction accuracy. A study by Maddi et al. (2024) reviews machine learning uses for detecting deceptive job postings yet supports applying these methods to evaluate job data without specific emphasis on salary forecasts. Mohammed et al. (2023) explores machine learning for job position classification but does not address salary prediction directly. The research aims to enhance knowledge about digital age employment and salary analytics by developing practical tools for employers and job seekers."
   ]
  },
  {
   "cell_type": "markdown",
   "id": "2998bb8e",
   "metadata": {},
   "source": [
    "#### Data Loading & Cleaning"
   ]
  },
  {
   "cell_type": "code",
   "execution_count": 1,
   "id": "22b43d71",
   "metadata": {},
   "outputs": [
    {
     "name": "stdout",
     "output_type": "stream",
     "text": [
      "Requirement already satisfied: imbalanced-learn==0.10.1 in c:\\users\\smyou\\anaconda3\\lib\\site-packages (0.10.1)\n",
      "Requirement already satisfied: numpy>=1.17.3 in c:\\users\\smyou\\anaconda3\\lib\\site-packages (from imbalanced-learn==0.10.1) (1.26.4)\n",
      "Requirement already satisfied: scipy>=1.3.2 in c:\\users\\smyou\\anaconda3\\lib\\site-packages (from imbalanced-learn==0.10.1) (1.11.4)\n",
      "Requirement already satisfied: scikit-learn>=1.0.2 in c:\\users\\smyou\\anaconda3\\lib\\site-packages (from imbalanced-learn==0.10.1) (1.2.2)\n",
      "Requirement already satisfied: joblib>=1.1.1 in c:\\users\\smyou\\anaconda3\\lib\\site-packages (from imbalanced-learn==0.10.1) (1.1.1)\n",
      "Requirement already satisfied: threadpoolctl>=2.0.0 in c:\\users\\smyou\\anaconda3\\lib\\site-packages (from imbalanced-learn==0.10.1) (2.2.0)\n",
      "Note: you may need to restart the kernel to use updated packages.\n",
      "                                  Co_Nm  Co_Pg_Lstd  Emp_Cnt  Flw_Cnt  \\\n",
      "0                           HearingLife        True     1171    11417   \n",
      "1          Metalcraft of Mayville, Inc.        True      300     2923   \n",
      "2  U.S. Tsubaki Power Transmission, LLC        True      314     8487   \n",
      "3      Episcopal Communities & Services        True       36      305   \n",
      "4                            iHerb, LLC        True     1227    51933   \n",
      "\n",
      "                                             Job_Ttl  \\\n",
      "0                              Hearing Care Provider   \n",
      "1  Shipping & Receiving Associate 2nd shift (Beav...   \n",
      "2                               Manager, Engineering   \n",
      "3                                               Cook   \n",
      "4        Principal Cloud Security Architect (Remote)   \n",
      "\n",
      "                                            Job_Desc  Is_Supvsr    max_sal  \\\n",
      "0  Overview\\n\\nHearingLife is a national hearing ...      False    5250.00   \n",
      "1  Metalcraft of Mayville\\nMetalcraft of Mayville...      False       0.00   \n",
      "2  The TSUBAKI name is synonymous with excellence...       True       0.00   \n",
      "3  descriptionTitle\\n\\n Looking for a great oppor...      False      22.27   \n",
      "4  Job Summary\\nAt iHerb, we are on a mission to ...      False  275834.00   \n",
      "\n",
      "     med_sal    min_sal  ... st_code  is_remote views       app_typ  \\\n",
      "0    5250.00    5250.00  ...      SC          0     9  OffsiteApply   \n",
      "1       0.00       0.00  ...      WI          0     0  OffsiteApply   \n",
      "2       0.00       0.00  ...      AL          0     0  OffsiteApply   \n",
      "3      22.27      22.27  ...      CA          0     1  OffsiteApply   \n",
      "4  240895.00  205956.00  ...      XF          1     0  OffsiteApply   \n",
      "\n",
      "  app_is_off            xp_lvl                    domain has_post_domain  \\\n",
      "0       True       Entry level  careers-demant.icims.com            True   \n",
      "1       True        Not Listed       www.click2apply.net            True   \n",
      "2       True        Not Listed       www.click2apply.net            True   \n",
      "3       True       Entry level           jobs.apploi.com            True   \n",
      "4       True  Mid-Senior level         careers.iherb.com            True   \n",
      "\n",
      "   is_sponsored base_comp  \n",
      "0             0         1  \n",
      "1             0         0  \n",
      "2             0         0  \n",
      "3             0         1  \n",
      "4             0         1  \n",
      "\n",
      "[5 rows x 24 columns]\n",
      "Columns: ['Co_Nm', 'Co_Pg_Lstd', 'Emp_Cnt', 'Flw_Cnt', 'Job_Ttl', 'Job_Desc', 'Is_Supvsr', 'max_sal', 'med_sal', 'min_sal', 'py_prd', 'py_lstd', 'wrk_typ', 'loc', 'st_code', 'is_remote', 'views', 'app_typ', 'app_is_off', 'xp_lvl', 'domain', 'has_post_domain', 'is_sponsored', 'base_comp']\n",
      "                                               title  \\\n",
      "0                              Hearing Care Provider   \n",
      "1  Shipping & Receiving Associate 2nd shift (Beav...   \n",
      "2                               Manager, Engineering   \n",
      "3                                               Cook   \n",
      "4        Principal Cloud Security Architect (Remote)   \n",
      "\n",
      "                                company  salary  \n",
      "0                           HearingLife       1  \n",
      "1          Metalcraft of Mayville, Inc.       0  \n",
      "2  U.S. Tsubaki Power Transmission, LLC       0  \n",
      "3      Episcopal Communities & Services       1  \n",
      "4                            iHerb, LLC       1  \n",
      "Total postings: 33246\n"
     ]
    }
   ],
   "source": [
    "# 1. Install & imports  \n",
    "%pip install imbalanced-learn==0.10.1  \n",
    "import pandas as pd  \n",
    "import matplotlib.pyplot as plt  \n",
    "from sklearn.model_selection import train_test_split, GridSearchCV  \n",
    "from sklearn.preprocessing import StandardScaler  \n",
    "from sklearn.feature_extraction.text import TfidfVectorizer  \n",
    "from sklearn.ensemble import GradientBoostingClassifier  \n",
    "from sklearn.linear_model import LogisticRegression  \n",
    "from sklearn.neighbors import KNeighborsClassifier  \n",
    "from sklearn.metrics import accuracy_score, roc_auc_score  \n",
    "from imblearn.over_sampling import SMOTE  \n",
    "from scipy.sparse import hstack, csr_matrix  \n",
    "\n",
    "# 1.1. Load and inspect the LinkedInJobs_MLDataset.csv dataset\n",
    "\n",
    "df = pd.read_csv('C:/Users/smyou/Downloads/LinkedIn/LinkedInJobs_MLDataset.csv')\n",
    "# Show head and columns\n",
    "print(df.head())\n",
    "print('\\\n",
    "Columns:', list(df.columns))\n",
    "\n",
    "# 1.2 Rename for consistency  \n",
    "df = df.rename(columns={  \n",
    "    'Job_Ttl':'title', 'Job_Desc':'description',  \n",
    "    'base_comp':'salary', 'xp_lvl':'experience_level','Co_Nm':'company'  \n",
    "})  \n",
    "  \n",
    "# 1.3 Drop rows with missing salary  \n",
    "df = df[df['salary'].notnull()]  \n",
    "df['salary'] = pd.to_numeric(df['salary'], errors='coerce')  \n",
    "df = df.dropna(subset=['salary'])  \n",
    "  \n",
    "# 1.4 Quick inspect  \n",
    "print(df[['title','company','salary']].head())  \n",
    "print('Total postings:', len(df)) "
   ]
  },
  {
   "cell_type": "markdown",
   "id": "54355337",
   "metadata": {},
   "source": [
    "#### Job-Title Classification and EDA"
   ]
  },
  {
   "cell_type": "code",
   "execution_count": 2,
   "id": "91004fbb",
   "metadata": {},
   "outputs": [
    {
     "name": "stdout",
     "output_type": "stream",
     "text": [
      "       Count  count\n",
      "0      Other  21530\n",
      "1    Manager   5116\n",
      "2   Engineer   3262\n",
      "3    Analyst   1528\n",
      "4      Nurse   1122\n",
      "5  Developer    688\n"
     ]
    }
   ],
   "source": [
    "# 2. Map raw titles into broad categories  \n",
    "def map_title(t):  \n",
    "    t = t.lower()  \n",
    "    if 'engineer' in t:   return 'Engineer'  \n",
    "    elif 'manager' in t:    return 'Manager'  \n",
    "    elif 'nurse' in t:      return 'Nurse'  \n",
    "    elif 'analyst' in t:    return 'Analyst'  \n",
    "    elif 'developer' in t: return 'Developer'\n",
    "    return 'Other' \n",
    "# 2.1 Categorize Job Titles\n",
    "def categorize_job_title(title):\n",
    "    title_lower = title.lower()\n",
    "    if 'engineer' in title_lower:\n",
    "        return 'Engineering'\n",
    "    elif 'manager' in title_lower:\n",
    "        return 'Management'\n",
    "    elif 'nurse' in title_lower:\n",
    "        return 'Nursing'\n",
    "    elif 'analyst' in title_lower:\n",
    "        return 'Analyst'\n",
    "    elif 'developer' in title_lower:\n",
    "        return 'Developer'\n",
    "    # ... (other rules)\n",
    "    else:\n",
    "        return 'Other'\n",
    "  \n",
    "df['job_cat'] = df['title'].apply(map_title)  \n",
    "  \n",
    "# 2.2 Count per category  \n",
    "counts = df['job_cat'].value_counts().reset_index().rename(columns={'index':'Category','job_cat':'Count'})  \n",
    "print(counts)  "
   ]
  },
  {
   "cell_type": "markdown",
   "id": "ba9d4c64",
   "metadata": {},
   "source": [
    "Initial categorization shows \"Engineer\" and \"Manager\" dominate the listing as the two named categories. While the \"Other\" category may need more classifier to filter the category down. Next, salaray distribution will be evaluated:"
   ]
  },
  {
   "cell_type": "code",
   "execution_count": 3,
   "id": "2c0f87b4",
   "metadata": {},
   "outputs": [
    {
     "data": {
      "image/png": "[encoded data removed]",
      "text/plain": [
       "<Figure size 640x480 with 1 Axes>"
      ]
     },
     "metadata": {},
     "output_type": "display_data"
    }
   ],
   "source": [
    "# 3. EDA\n",
    "import matplotlib.pyplot as plt  \n",
    "  \n",
    "plt.hist(df['salary'], bins=30, color='skyblue')  \n",
    "plt.xlabel('Base Compensation')  \n",
    "plt.ylabel('Number of Postings')  \n",
    "plt.title('Salary Distribution')  \n",
    "plt.show()  "
   ]
  },
  {
   "cell_type": "markdown",
   "id": "79321ded",
   "metadata": {},
   "source": [
    "#### Preprocessing and Feature Engineering\n",
    "Numeric: company_size, followers, views, is_remote\n",
    "Categorical: job_cat, experience_level, domain (one-hot)\n",
    "Text: TF-IDF on description (max_features=500)"
   ]
  },
  {
   "cell_type": "code",
   "execution_count": 4,
   "id": "8a1b70c2",
   "metadata": {},
   "outputs": [
    {
     "name": "stdout",
     "output_type": "stream",
     "text": [
      "   wrk_typ_Full-time  wrk_typ_Internship  wrk_typ_Other  wrk_typ_Part-time  \\\n",
      "0               True               False          False              False   \n",
      "1               True               False          False              False   \n",
      "2               True               False          False              False   \n",
      "3               True               False          False              False   \n",
      "4               True               False          False              False   \n",
      "\n",
      "   wrk_typ_Temporary  wrk_typ_Volunteer  experience_level_Director  \\\n",
      "0              False              False                      False   \n",
      "1              False              False                      False   \n",
      "2              False              False                      False   \n",
      "3              False              False                      False   \n",
      "4              False              False                      False   \n",
      "\n",
      "   experience_level_Entry level  experience_level_Executive  \\\n",
      "0                          True                       False   \n",
      "1                         False                       False   \n",
      "2                         False                       False   \n",
      "3                          True                       False   \n",
      "4                         False                       False   \n",
      "\n",
      "   experience_level_Internship  experience_level_Mid-Senior level  \\\n",
      "0                        False                              False   \n",
      "1                        False                              False   \n",
      "2                        False                              False   \n",
      "3                        False                              False   \n",
      "4                        False                               True   \n",
      "\n",
      "   experience_level_Not Listed  \n",
      "0                        False  \n",
      "1                         True  \n",
      "2                         True  \n",
      "3                        False  \n",
      "4                        False  \n"
     ]
    }
   ],
   "source": [
    "from sklearn.preprocessing import OneHotEncoder, StandardScaler  \n",
    "from sklearn.feature_extraction.text import TfidfVectorizer  \n",
    "\n",
    "df=df.dropna(subset=['description','domain'])\n",
    "\n",
    "# 4.1 Numeric + bool  \n",
    "X_num = df[['Emp_Cnt','Flw_Cnt','views','is_remote']].astype(float)  \n",
    "  \n",
    "# 4.2 One-hot job_cat & experience_level & domain  \n",
    "X_cat = pd.get_dummies(df[['wrk_typ','experience_level']], drop_first=True)\n",
    "print(X_cat.head())  \n",
    "  \n",
    "# 4.3 Text  \n",
    "tfidf = TfidfVectorizer(max_features=500)  \n",
    "X_txt = tfidf.fit_transform(df['description'].fillna(''))  \n",
    "  \n",
    "# 4.4 Combine  \n",
    "from scipy.sparse import hstack, csr_matrix  \n",
    "X_all = hstack([X_txt, csr_matrix(X_num.values), csr_matrix(X_cat.values)])  \n",
    "  \n",
    "  \n",
    "# 4.5 Classification target: high vs low salary  \n",
    "median_sal = df['salary'].median()  \n",
    "y_cls = (df['salary'] >= median_sal).astype(int)    \n",
    "  \n",
    "  "
   ]
  },
  {
   "cell_type": "markdown",
   "id": "f98bcb44",
   "metadata": {},
   "source": [
    "#### Modeling\n",
    "##### Classification: High vs. Low Salary\n",
    "Comparing:\n",
    "Logistic Regression\n",
    "Gradient Boosting Classifier\n",
    "Random Forest Classifier\n",
    "K-Nearest Neighbors"
   ]
  },
  {
   "cell_type": "code",
   "execution_count": 5,
   "id": "d973c15f",
   "metadata": {},
   "outputs": [
    {
     "name": "stdout",
     "output_type": "stream",
     "text": [
      "After SMOTE class counts: job_cat\n",
      "Other        10625\n",
      "Engineer     10625\n",
      "Manager      10625\n",
      "Nurse        10625\n",
      "Analyst      10625\n",
      "Developer    10625\n",
      "Name: count, dtype: int64\n"
     ]
    }
   ],
   "source": [
    "import pandas as pd  \n",
    "from sklearn.model_selection import train_test_split, GridSearchCV  \n",
    "from sklearn.feature_extraction.text import TfidfVectorizer  \n",
    "from sklearn.ensemble import GradientBoostingClassifier  \n",
    "from sklearn.metrics import accuracy_score, roc_auc_score  \n",
    "from imblearn.over_sampling import SMOTE  \n",
    "from scipy.sparse import hstack, csr_matrix  \n",
    "\n",
    "# Prepare classification features\n",
    "tfidf = TfidfVectorizer(max_features=500)\n",
    "X_text = tfidf.fit_transform(df['description'].fillna(''))\n",
    "X_num = df[['Emp_Cnt','Flw_Cnt','views','is_remote']].fillna(0).astype(float)\n",
    "X_cls = hstack([X_text, csr_matrix(X_num.values)])\n",
    "y_cls = df['job_cat']\n",
    "\n",
    "# Split (stratify)\n",
    "Xc_tr, Xc_te, yc_tr, yc_te = train_test_split(X_cls, y_cls, test_size=0.2, random_state=42, stratify=y_cls\n",
    ")\n",
    "# SMOTE on train only\n",
    "sm = SMOTE(random_state=42)\n",
    "X_res, y_res = sm.fit_resample(Xc_tr, yc_tr)\n",
    "print('After SMOTE class counts:', pd.Series(y_res).value_counts())\n",
    "  \n"
   ]
  },
  {
   "cell_type": "markdown",
   "id": "3f27009e",
   "metadata": {},
   "source": [
    "Initial codes included GridSearchCV as cross validation for a gradient boosting model. However, processing time made the model not feasible for this project. Original code is listed below. This is an avenue that should be explored in next steps or future improvements to the model to tune SMOTE-balanced classification pipleine. Considerations for other cross-validation tuning models will need to be explored as well.\n",
    "# GridSearchCV on GBDT  \n",
    "param_grid = {  \n",
    "    'n_estimators': [50,100],  \n",
    "    'learning_rate': [0.1,0.2],  \n",
    "    'max_depth': [2,3]  \n",
    "}  \n",
    "gbc = GradientBoostingClassifier(random_state=42)  \n",
    "gs = GridSearchCV(gbc, param_grid, scoring='roc_auc', cv=3, n_jobs=-1)  \n",
    "gs.fit(X_res, y_res)  \n",
    "  \n"
   ]
  },
  {
   "cell_type": "markdown",
   "id": "49dbef8f",
   "metadata": {},
   "source": [
    "##### Regression: Predicting Salary"
   ]
  },
  {
   "cell_type": "code",
   "execution_count": 9,
   "id": "94eac567",
   "metadata": {},
   "outputs": [
    {
     "name": "stdout",
     "output_type": "stream",
     "text": [
      "              Model       MSE\n",
      "0  LinearRegression  0.228742\n",
      "1  GradientBoosting  0.095573\n",
      "2      RandomForest  0.074057\n",
      "3          KNearest  0.160437\n"
     ]
    }
   ],
   "source": [
    "from sklearn.linear_model import LinearRegression  \n",
    "from sklearn.ensemble import GradientBoostingRegressor, RandomForestRegressor  \n",
    "from sklearn.neighbors import KNeighborsRegressor  \n",
    "from sklearn.metrics import mean_squared_error  \n",
    "\n",
    "# Prepare regression features\n",
    "X_reg = X_cls  # reuse text+numeric\n",
    "y_reg = df['salary']\n",
    "Xr_tr, Xr_te, yr_tr, yr_te = train_test_split(X_reg, y_reg, test_size=0.2, random_state=42)   \n",
    "regs = {  \n",
    "  'LinearRegression': LinearRegression(),  \n",
    "  'GradientBoosting': GradientBoostingRegressor(random_state=42),  \n",
    "  'RandomForest': RandomForestRegressor(random_state=42),  \n",
    "  'KNearest': KNeighborsRegressor()  \n",
    "}  \n",
    "  \n",
    "results_reg = []  \n",
    "for name, m in regs.items():  \n",
    "    m.fit(Xr_tr, yr_tr)  \n",
    "    pred = m.predict(Xr_te)\n",
    "    mse = mean_squared_error(yr_te, pred) \n",
    "    results_reg.append({'Model': name, 'MSE': mse})  \n",
    "reg_df = pd.DataFrame(results_reg)  \n",
    "print(reg_df)  "
   ]
  },
  {
   "cell_type": "markdown",
   "id": "fb65cb34",
   "metadata": {},
   "source": [
    "#### Visualization & Comparison"
   ]
  },
  {
   "cell_type": "code",
   "execution_count": 10,
   "id": "abd9a3db",
   "metadata": {},
   "outputs": [
    {
     "data": {
      "image/png": "[encoded data removed]",
      "text/plain": [
       "<Figure size 600x400 with 1 Axes>"
      ]
     },
     "metadata": {},
     "output_type": "display_data"
    }
   ],
   "source": [
    "import matplotlib.pyplot as plt  \n",
    " \n",
    "# Regression: MSE  \n",
    "plt.figure(figsize=(6,4))  \n",
    "reg_df.set_index('Model')['MSE'].plot.bar(color='orchid')  \n",
    "plt.title('Regression MSE')  \n",
    "plt.ylabel('MSE')  \n",
    "plt.show()  "
   ]
  },
  {
   "cell_type": "code",
   "execution_count": 12,
   "id": "ae991d5a",
   "metadata": {},
   "outputs": [
    {
     "name": "stdout",
     "output_type": "stream",
     "text": [
      "            Model  accuracy   ROC_AUC\n",
      "0    GBDT_Default  0.875571  0.941732\n",
      "1  GBDT_Optimized  0.884713  0.948254\n"
     ]
    }
   ],
   "source": [
    "# Evaluation  \n",
    "def eval_model(m):  \n",
    "    p = m.predict(Xr_te)  \n",
    "    prob = m.predict_proba(Xr_te)[:,1]  \n",
    "    return accuracy_score(yr_te,p), roc_auc_score(yr_te,prob)  \n",
    "  \n",
    "default = GradientBoostingClassifier(random_state=42)  \n",
    "default.fit(Xr_tr,yr_tr)  \n",
    "\n",
    "# Optimized Gradient Boosting model\n",
    "best = GradientBoostingClassifier(\n",
    "    n_estimators=150,\n",
    "    learning_rate=0.05,\n",
    "    max_depth=4,\n",
    "    random_state=42\n",
    ")\n",
    "\n",
    "best.fit(Xr_tr, yr_tr)\n",
    "\n",
    "d_acc, d_auc = eval_model(default)  \n",
    "o_acc, o_auc = eval_model(best)\n",
    "\n",
    "\n",
    "  \n",
    "df_results = pd.DataFrame([  \n",
    "    {'Model':'GBDT_Default','accuracy':d_acc,'ROC_AUC':d_auc},  \n",
    "    {'Model':'GBDT_Optimized','accuracy':o_acc,'ROC_AUC':o_auc}  \n",
    "])  \n",
    "print(df_results)  "
   ]
  },
  {
   "cell_type": "code",
   "execution_count": 13,
   "id": "98cd77ec",
   "metadata": {},
   "outputs": [
    {
     "data": {
      "image/png": "[encoded data removed]",
      "text/plain": [
       "<Figure size 600x400 with 1 Axes>"
      ]
     },
     "metadata": {},
     "output_type": "display_data"
    }
   ],
   "source": [
    "# Plot comparison  \n",
    "ax = df_results.set_index('Model').plot.bar(rot=0, figsize=(6,4))  \n",
    "ax.set_ylim(0.5,1.0)  \n",
    "ax.set_title('GBDT Default vs Optimized')  \n",
    "plt.ylabel('Score')  \n",
    "plt.tight_layout()  \n",
    "plt.show()  "
   ]
  }
 ],
 "metadata": {
  "kernelspec": {
   "display_name": "base",
   "language": "python",
   "name": "python3"
  },
  "language_info": {
   "codemirror_mode": {
    "name": "ipython",
    "version": 3
   },
   "file_extension": ".py",
   "mimetype": "text/x-python",
   "name": "python",
   "nbconvert_exporter": "python",
   "pygments_lexer": "ipython3",
   "version": "3.11.7"
  }
 },
 "nbformat": 4,
 "nbformat_minor": 5
}
